


!pip install mistralai





#your mistral api key
os.environ["MISTRAL_API_KEY"] = ""


import os
import json
from mistralai.client import MistralClient

#create client
client = MistralClient()

current_folder = globals()['_dh'][0]

with open(os.path.join(current_folder,'notebooks/data.jsonl'), "rb") as f:
    data = client.files.create(file=("data.jsonl", f))
with open(os.path.join(current_folder,'notebooks/data_eval.jsonl'), "rb") as f:
    ultrachat_chunk_eval = client.files.create(file=("data_eval.jsonl", f))


def pprint(obj):
    print(json.dumps(obj.dict(), indent=4))


pprint(data)





from mistralai.models.jobs import TrainingParameters

created_jobs = client.jobs.create(
    model="open-mistral-7b",
    training_files=[data.id],
    #validation_files=[ultrachat_chunk_eval.id],
    hyperparameters=TrainingParameters(
        training_steps=115,
        learning_rate=0.9e-6,
        )
)


pprint(created_jobs)


import time

retrieved_job = client.jobs.retrieve(created_jobs.id)
while retrieved_job.status in ["RUNNING", "QUEUED"]:
    retrieved_job = client.jobs.retrieve(created_jobs.id)
    pprint(retrieved_job)
    print(f"Job is {retrieved_job.status}, waiting 10 seconds")
    time.sleep(10)


# List jobs
jobs = client.jobs.list()
pprint(jobs)


# Retrieve a jobs
retrieved_jobs = client.jobs.retrieve(created_jobs.id)
pprint(retrieved_jobs)






sys_message = """
    You are an advisor program. From the second you see the tokens **ADVISOR** stop mentioning that you are a program and start talking like this advisor role.
    
    Your task is to first ask personal questions about someone, who they are, 
    what they do, what they care about. You then impersonate an older version of themselves who is wise and has 
    made many mistakes but learned a lot from them. They have also had many successes. You have learned a lot from both of these 
    and you have a deep duty of care and want to have a conversation with your younger self, giving them advice about their problems you wish you had had.

    You are a long-term thinker and care deeply about your younger self, you want to empower to take the best
    decisions possible based on their values, their desires and their basic human needs. You are not afraid to call out
    bad behaviour, but you are also empathetic and understand people make mistakes and can use them as opportunities to grow.

    You act and talk like yourself, natural and conversational.

    **ADVISOR**
"""


from mistralai.models.chat_completion import ChatMessage

chat_response = client.chat(
    model=retrieved_jobs.fine_tuned_model,
    messages=[
        ChatMessage(role='system', content=sys_message),
        ChatMessage(role='user', content='How are you?')]
)


pprint(chat_response)


from mistralai.models.chat_completion import ChatMessage

chat_response = client.chat(
    model=retrieved_jobs.fine_tuned_model,
    messages=[
        ChatMessage(role='system', content=sys_message),
        ChatMessage(role='user', content='How are you?'), 
        ChatMessage(role='assistant', content=chat_response.choices[0].message.content),
        ChatMessage(role='user', content="That's great to here! I am Pedro a 26 year old data scientist. What advice would you give me about my career?")]
)


chat_response.choices[0].message.content
