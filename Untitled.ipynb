{
 "cells": [
  {
   "cell_type": "code",
   "execution_count": 1,
   "id": "fbcef643-3dc4-461c-9e2d-d2c260c6902e",
   "metadata": {},
   "outputs": [
    {
     "name": "stdout",
     "output_type": "stream",
     "text": [
      "Requirement already satisfied: requests in /home/giskard/miniconda3/envs/pt/lib/python3.9/site-packages (2.28.1)\n",
      "Requirement already satisfied: beautifulsoup4 in /home/giskard/miniconda3/envs/pt/lib/python3.9/site-packages (4.12.3)\n",
      "Requirement already satisfied: charset-normalizer<3,>=2 in /home/giskard/miniconda3/envs/pt/lib/python3.9/site-packages (from requests) (2.1.1)\n",
      "Requirement already satisfied: idna<4,>=2.5 in /home/giskard/miniconda3/envs/pt/lib/python3.9/site-packages (from requests) (3.4)\n",
      "Requirement already satisfied: urllib3<1.27,>=1.21.1 in /home/giskard/miniconda3/envs/pt/lib/python3.9/site-packages (from requests) (1.26.13)\n",
      "Requirement already satisfied: certifi>=2017.4.17 in /home/giskard/miniconda3/envs/pt/lib/python3.9/site-packages (from requests) (2022.12.7)\n",
      "Requirement already satisfied: soupsieve>1.2 in /home/giskard/miniconda3/envs/pt/lib/python3.9/site-packages (from beautifulsoup4) (2.5)\n",
      "Note: you may need to restart the kernel to use updated packages.\n"
     ]
    }
   ],
   "source": [
    "pip install requests beautifulsoup4"
   ]
  },
  {
   "cell_type": "code",
   "execution_count": 99,
   "id": "6ec70571-454d-4ae8-9251-6a84cb73a414",
   "metadata": {},
   "outputs": [],
   "source": [
    "import requests\n",
    "from bs4 import BeautifulSoup\n",
    "\n",
    "# URL of the webpage you want to scrape\n",
    "url = 'https://www.mrmoneymustache.com/2011/05/18/how-to-make-money-in-the-stock-market/'\n",
    "\n",
    "# Send a GET request to the webpage\n",
    "response = requests.get(url)\n",
    "\n",
    "# Initialize an empty string to hold all the text\n",
    "all_text = \"\"\n",
    "\n",
    "# Check if the request was successful\n",
    "if response.status_code == 200:\n",
    "    # Parse the content of the request with BeautifulSoup\n",
    "    soup = BeautifulSoup(response.text, 'html.parser')\n",
    "    \n",
    "    # Extract all text within paragraph tags\n",
    "    paragraphs = soup.find_all('p')\n",
    "    for paragraph in paragraphs:\n",
    "        # Add each paragraph's text to the all_text string with a space in between\n",
    "        all_text += paragraph.text.strip() + \" \"\n",
    "    \n",
    "    # Optional: print the complete concatenated text\n",
    "    #print(all_text)\n",
    "else:\n",
    "    print(f\"Failed to retrieve the webpage. Status code: {response.status_code}\")\n"
   ]
  },
  {
   "cell_type": "code",
   "execution_count": 100,
   "id": "26ffc7de-fcaf-4d1a-8bda-a4bfcd39e374",
   "metadata": {},
   "outputs": [],
   "source": [
    "import ollama"
   ]
  },
  {
   "cell_type": "code",
   "execution_count": 135,
   "id": "56965e1e-befe-4d7d-8870-749dd1b1fa16",
   "metadata": {},
   "outputs": [
    {
     "name": "stderr",
     "output_type": "stream",
     "text": [
      "Token indices sequence length is longer than the specified maximum sequence length for this model (20237 > 1024). Running this sequence through the model will result in indexing errors\n"
     ]
    }
   ],
   "source": [
    "from transformers import GPT2Tokenizer\n",
    "\n",
    "tokenizer = GPT2Tokenizer.from_pretrained(\"gpt2\")\n",
    "max_tokens = 1024  # Adjust based on your model's max context length\n",
    "overlap = max_tokens // 4  # Calculate overlap as half of max_tokens\n",
    "\n",
    "def chunk_text(text, max_tokens, overlap):\n",
    "    tokens = tokenizer.encode(text)\n",
    "    chunks = []\n",
    "    for i in range(0, len(tokens), overlap):\n",
    "        chunk = tokens[i:i + max_tokens]\n",
    "        chunks.append(chunk)\n",
    "        if len(chunk) < max_tokens:\n",
    "            break\n",
    "    return [tokenizer.decode(chunk) for chunk in chunks]\n",
    "\n",
    "text = all_text\n",
    "chunks = chunk_text(text, max_tokens, overlap)"
   ]
  },
  {
   "cell_type": "code",
   "execution_count": 6,
   "id": "1f51c7a0-b663-4100-a37a-471d423a019b",
   "metadata": {},
   "outputs": [],
   "source": [
    "from string import Template"
   ]
  },
  {
   "cell_type": "code",
   "execution_count": 7,
   "id": "6980354f-3089-42f4-bb68-7ee73194d50b",
   "metadata": {},
   "outputs": [],
   "source": [
    "prompt_creator = Template(\"\"\" You are a curriculum creator. You teach others by creating question and answer pairs from documents. Your focus is distilling\n",
    "pure knowledge by extracting generalisable, deep underlying principles, this means that you ignore information that is only relevant to a \n",
    "particular document, and focus on knowledge contained or described in the text you read. \n",
    "\n",
    "Your task is to teach about financial advice, and you extract key pieces of information that are underlying principles on personal finance, financial advice, the economy and life philosophy in general.  \n",
    "\n",
    "You care about definitions, principles, rules, ways of thinking and ways of approaching and solving problems.\n",
    "\n",
    "Please create question and answer pairs from the following excerpt.\n",
    "**Document:**\n",
    "$text\n",
    "\"\"\")"
   ]
  },
  {
   "cell_type": "code",
   "execution_count": 8,
   "id": "78daa301-a297-4c83-b838-6f4cce6f1dac",
   "metadata": {},
   "outputs": [],
   "source": [
    "prompt_supervisor = Template(\"\"\"You are a content supervisor that decides on a question answer pair currciculum for a personal finance course. \n",
    "You have just received a series of question answer pairs from a document.\n",
    "\n",
    "Your task is to review them, accepting them or improving them. \n",
    "\n",
    "You first will provide you reasoning, and improved version if necessary.\n",
    "\n",
    "You will then respond with a new section, titled \"Question Answer Pairs\", where you will place the final version of these.\n",
    "\n",
    "**Document**\n",
    "$text\n",
    "\n",
    "**Question answer pairs:**\n",
    "$previous\n",
    "\"\"\")"
   ]
  },
  {
   "cell_type": "code",
   "execution_count": 61,
   "id": "05de0b47-6514-4318-b587-26b913c68218",
   "metadata": {},
   "outputs": [],
   "source": [
    "prompt_extractor = Template(\"\"\"Please extract the final relevant question answer pairs into a list of dictionaries that have the form:\n",
    "[{{'question':question_here, 'answer':answer_here}}, {{'question':question2_here, 'answer':answer2_here}}]\n",
    "\n",
    "You do not reply anything else, as that would make the list unparsable and your output useless.\n",
    "\n",
    "**Question answer pairs:**\n",
    "$previous\n",
    "\"\"\")"
   ]
  },
  {
   "cell_type": "code",
   "execution_count": 63,
   "id": "318c18f8-f581-4256-bf30-75465ffe6f70",
   "metadata": {},
   "outputs": [],
   "source": [
    "prompts = [prompt_creator, prompt_supervisor, prompt_extractor]"
   ]
  },
  {
   "cell_type": "code",
   "execution_count": 65,
   "id": "33a12ac4-3aa1-4a81-aacb-9f98128b8325",
   "metadata": {},
   "outputs": [],
   "source": [
    "def get_ollama_response(prompt):\n",
    "    response = ollama.chat(model='llama3', messages=[\n",
    "          {\n",
    "            'role': 'user',\n",
    "            'content': prompt,\n",
    "          },\n",
    "        ])\n",
    "\n",
    "    return response['message']['content']"
   ]
  },
  {
   "cell_type": "code",
   "execution_count": 67,
   "id": "484b88bb-06d3-4f21-9812-3a5b73341880",
   "metadata": {},
   "outputs": [],
   "source": [
    "import string\n",
    "import ast"
   ]
  },
  {
   "cell_type": "code",
   "execution_count": 69,
   "id": "832a0535-ffe4-485a-907b-5bcdc2e83c81",
   "metadata": {},
   "outputs": [],
   "source": [
    "def pipeline(text, prompts):\n",
    "\n",
    "    previous = get_ollama_response(prompts[0].substitute(text=text))\n",
    "    previous = get_ollama_response(prompts[1].substitute(text=text, previous=previous))\n",
    "    previous = get_ollama_response(prompts[2].substitute(text=text, previous=previous))\n",
    "\n",
    "    #return previous \n",
    "    \n",
    "    try:\n",
    "        previous = ast.literal_eval(previous)\n",
    "    except:\n",
    "        previous = None\n",
    "        \n",
    "    return previous"
   ]
  },
  {
   "cell_type": "code",
   "execution_count": 71,
   "id": "8e731091-c3f9-4a52-8cb5-747915cf3091",
   "metadata": {},
   "outputs": [
    {
     "data": {
      "text/plain": [
       "' Okay, admittedly my title for this article sounds like something that you might see in your Spam folder. But it’s also completely accurate, because I really can teach you the best way to make money from the stock market, for life, all in one short blog post. Okay, I admit it – this is widely available information: I am going to hand out some advice that has been handed out widely before, for many years now. But the reason I’m still writing is that ignorance still seems to be widespread. Almost nobody I meet in day-to-day life knows anything about investing, the stock market, or big publicly-traded companies in general. Their opinions on the subject range throughout boredom, fear, mistrust, and if they are lucky, curiosity. Or if they are unlucky, bold confidence in their abilities to drastically “beat the market” with their intuition. Here are three real quotes I have heard from friends over time when discussing the stock market. “Stocks are just a big roulette wheel.. You can’t go out swimming with those sharks on Wall Street – they’ll just eat you up!” “I don’t know what my retirement money is in.. I just checked some boxes on the sheet when I started my job, but I don’t really understand it”. “I don’t really believe in mutual funds at all – I’m dedicated enough to do my own research and I can pick winning individual stocks.. I’ve got some Facebook, some Google, some Crude Oil/Gold/Pig’s Feet/whatever…..” All three of these approaches are understandable, but wrong. The sentiments are valid and I’m glad that people at least have an opinion, but each represents a lack of knowledge about the statistics that run the whole system. Knowing the nature of the market is the key to being able to invest huge sums of your money over time with the absolute confidence that you’re not doing anything stupid. It’s worth gaining this confidence, because investing knowledgeably in stocks has always been an incredibly useful way to secure your own retirement. Sure, it’s not the only way, but from what I’ve seen so far, it’s the single most reliable way to build up a nice chunk of money, and then have it live on in the form of a stream of lifetime income, with very little ongoing effort'"
      ]
     },
     "execution_count": 71,
     "metadata": {},
     "output_type": "execute_result"
    }
   ],
   "source": [
    "chunks[0]"
   ]
  },
  {
   "cell_type": "code",
   "execution_count": 73,
   "id": "08667b1d-08d2-44ce-a2a5-348f0d9120ef",
   "metadata": {},
   "outputs": [
    {
     "data": {
      "text/plain": [
       "[{'question': \"What is the author's approach to financial advice?\",\n",
       "  'answer': 'The author takes an educational approach, aiming to teach readers about investing and the stock market in a way that is accessible and actionable.'},\n",
       " {'question': 'What are some common misconceptions people have about the stock market?',\n",
       "  'answer': 'According to the author, people often misunderstand the nature of the system, leading to fears and misconceptions about investing.'},\n",
       " {'question': 'What is the key to successful investing?',\n",
       "  'answer': \"The author emphasizes the importance of knowing the nature of the market to gain confidence in one's investment decisions.\"},\n",
       " {'question': 'What specific financial benefits can one expect from understanding investing principles?',\n",
       "  'answer': 'Understanding investing principles can help individuals secure their own retirement and build a stream of lifetime income with minimal ongoing effort.'},\n",
       " {'question': \"What is the author's purpose in writing about financial advice?\",\n",
       "  'answer': 'The author aims to address widespread ignorance about investing, providing education and guidance to readers who may not have access to this information otherwise.'},\n",
       " {'question': 'What steps can one take to gain a better understanding of investing principles?',\n",
       "  'answer': 'By gaining knowledge about the statistics that run the system and understanding the nature of the market, individuals can make informed investment decisions and build a secure financial future.'}]"
      ]
     },
     "execution_count": 73,
     "metadata": {},
     "output_type": "execute_result"
    }
   ],
   "source": [
    "pipeline(chunks[0], prompts)"
   ]
  },
  {
   "cell_type": "code",
   "execution_count": 81,
   "id": "d36f4e3a-791a-4b09-9c39-d094dbfc2256",
   "metadata": {},
   "outputs": [
    {
     "name": "stdout",
     "output_type": "stream",
     "text": [
      "CPU times: user 438 ms, sys: 41.9 ms, total: 480 ms\n",
      "Wall time: 18min 15s\n"
     ]
    }
   ],
   "source": [
    "%%time\n",
    "\n",
    "total_list = []\n",
    "\n",
    "for chunk in chunks:\n",
    "    output = pipeline(chunk, prompts)\n",
    "    if output:\n",
    "       total_list.append(output)\n",
    "    else:\n",
    "        output = pipeline(chunk, prompts)\n",
    "        if output:\n",
    "           total_list.append(output)\n",
    "        else:\n",
    "            pass"
   ]
  },
  {
   "cell_type": "code",
   "execution_count": 87,
   "id": "2c83a2ff-4ec0-4475-ad6e-10f4fc9b36ce",
   "metadata": {},
   "outputs": [
    {
     "data": {
      "text/plain": [
       "75"
      ]
     },
     "execution_count": 87,
     "metadata": {},
     "output_type": "execute_result"
    }
   ],
   "source": [
    "len(total_list)"
   ]
  },
  {
   "cell_type": "code",
   "execution_count": 379,
   "id": "c7b610b4-95a2-4e6e-a19b-605bdb2fe93c",
   "metadata": {},
   "outputs": [
    {
     "data": {
      "text/plain": [
       "' with the lowest fees, you automatically win. Endless statistical analysis proves this again and again. If you don’t believe me, read the book “A Random Walk Down Wall Street, or look up the topic of John Bogle / Bogleheads / and the foundation of the Vanguard company itself. But my uncle bought some stocks once and sold at a big profit! Also, if index funds really are the statistically best bet, why are there still thousands of brand-name mutual funds and hotshot traders out there? For the same reason that Las Vegas still exists and people still drive SUVs. Humans are irrational creatures and it is scientifically proven that we overestimate our own investment (and gambling) abilities, and no presentation of knowledge to the affected people can completely erase this. I have some perfectly intelligent friends who still believe they are “lucky” at games of chance, even though any scientist in the world can quickly run an experiment to irrefutably disprove the existence of any form of luck. The only tool you can truly use is statistical probability, and by buying the market average and lowering your investment costs, you are improving your statistical chances. OK, Fine. Which Index fund do I want? There is one king index fund that makes the decision easy for you. The Vanguard Total Stock Market Index Exchange Traded Fund (VTI) tracks the entire US stock market index. Its expense ratio is 0.04%. This means that for every $100,000 of shares you hold, they subtract $40 per year from their gains to pay for their offices and trading costs. Some funds charge 10-20 times higher fees. So if you are looking over employer-sponsored plans, try to find a total stock index fund (or at least its close cousin the S&P 500 index fund), and compare the expense ratio to 0.04%. What is the S&P 500? This is basically a list of the 500 largest companies in the US, and therefore in most of the world. They are all multinational companies, so they benefit from growth around the world. If you really want to invest without having to worry, the S&P represents good odds. If you buy the stock market index of a smaller country, like Canada, you will still have good odds, but at higher volatility. (During the dot-com boom of the nineties, a company called Nortel once represented 70% of Canada’s entire stock market value. This company is now bankrupt, so you can imagine how that'"
      ]
     },
     "execution_count": 379,
     "metadata": {},
     "output_type": "execute_result"
    }
   ],
   "source": [
    "chunks[3]"
   ]
  },
  {
   "cell_type": "code",
   "execution_count": 297,
   "id": "8a1a7e94-99b4-452d-a87f-542a3cbc0030",
   "metadata": {},
   "outputs": [
    {
     "name": "stdout",
     "output_type": "stream",
     "text": [
      "Here are the question and answer pairs extracted from the excerpt:\n",
      "\n",
      "**Q1: What is a stock?**\n",
      "A1: A stock is a slice of a company that you truly own, giving you the right to attend shareholder meetings, vote on important decisions, and receive a share of future earnings (dividends).\n",
      "\n",
      "**Q2: What is a dividend?**\n",
      "A2: A dividend is a share of a company's earnings paid out to shareholders.\n",
      "\n",
      "**Q3: Why do companies reinvest dividends instead of paying them out?**\n",
      "A3: Companies may reinvest dividends to help the company grow its earnings even faster, potentially leading to more future dividends.\n",
      "\n",
      "**Q4: What determines the value of a stock?**\n",
      "A4: The true value of a stock is based on the amount of dividends it will eventually pay shareholders over time, which depends on how much money the underlying company will make.\n",
      "\n",
      "**Q5: Why do stocks go up and down so much?**\n",
      "A5: Stocks fluctuate because millions of investors and analysts have differing opinions about how much money companies will make in the future, leading to speculation and volatility.\n",
      "\n",
      "**Q6: How can you make money from stocks despite their volatility?**\n",
      "A6: You can make money by focusing on the long-term trend that all this speculation and volatility cancels out to zero. The value of stocks will go up as the earnings of the underlying companies go up, and a portion of those earnings will always flow to shareholders as dividends.\n",
      "\n",
      "**Q7: What drives the value of stocks in the long run?**\n",
      "A7: The value of stocks is driven by the natural ingenuity of hardworking humans making things, which leads to increased company earnings and ultimately, higher dividend payouts.\n",
      "CPU times: user 0 ns, sys: 3.92 ms, total: 3.92 ms\n",
      "Wall time: 3.13 s\n"
     ]
    }
   ],
   "source": [
    "%%time\n",
    "response = ollama.chat(model='llama3', messages=[\n",
    "  {\n",
    "    'role': 'user',\n",
    "    'content': prompt,\n",
    "  },\n",
    "])\n",
    "print(response['message']['content'])"
   ]
  },
  {
   "cell_type": "code",
   "execution_count": 298,
   "id": "ff1f0b19-ece9-474b-a0c0-46826f92a2ae",
   "metadata": {},
   "outputs": [],
   "source": []
  },
  {
   "cell_type": "code",
   "execution_count": 299,
   "id": "e09f64c3-a37a-4bbb-a7b7-07a7e2d5481c",
   "metadata": {},
   "outputs": [
    {
     "name": "stdout",
     "output_type": "stream",
     "text": [
      "As a content supervisor for a personal finance course, my task is to review these question-answer pairs and provide feedback on their quality, accuracy, and relevance to the topic. Here's my review:\n",
      "\n",
      "**Q1: What is a stock?**\n",
      "A1: A stock is a slice of a company that you truly own, giving you the right to attend shareholder meetings, vote on important decisions, and receive a share of future earnings (dividends).\n",
      "\n",
      "Reasoning: This question-answer pair is well-written and accurate. The answer provides a clear explanation of what a stock is, including its rights and benefits.\n",
      "\n",
      "**Q2: What is a dividend?**\n",
      "A2: A dividend is a share of a company's earnings paid out to shareholders.\n",
      "\n",
      "Reasoning: This question-answer pair is also well-written and accurate. The answer concisely defines what a dividend is.\n",
      "\n",
      "**Q3: Why do companies reinvest dividends instead of paying them out?**\n",
      "A3: Companies may reinvest dividends to help the company grow its earnings even faster, potentially leading to more future dividends.\n",
      "\n",
      "Reasoning: This question-answer pair is well-written and accurate. The answer provides a clear explanation of why companies might choose to reinvest dividends.\n",
      "\n",
      "**Q4: What determines the value of a stock?**\n",
      "A4: The true value of a stock is based on the amount of dividends it will eventually pay shareholders over time, which depends on how much money the underlying company will make.\n",
      "\n",
      "Reasoning: This question-answer pair is well-written and accurate. The answer provides a clear explanation of what determines the value of a stock.\n",
      "\n",
      "**Q5: Why do stocks go up and down so much?**\n",
      "A5: Stocks fluctuate because millions of investors and analysts have differing opinions about how much money companies will make in the future, leading to speculation and volatility.\n",
      "\n",
      "Reasoning: This question-answer pair is well-written and accurate. The answer provides a clear explanation of why stocks can be volatile.\n",
      "\n",
      "**Q6: How can you make money from stocks despite their volatility?**\n",
      "A6: You can make money by focusing on the long-term trend that all this speculation and volatility cancels out to zero. The value of stocks will go up as the earnings of the underlying companies go up, and a portion of those earnings will always flow to shareholders as dividends.\n",
      "\n",
      "Reasoning: This question-answer pair is well-written and accurate. The answer provides a clear explanation of how to make money from stocks despite their volatility.\n",
      "\n",
      "**Q7: What drives the value of stocks in the long run?**\n",
      "A7: The value of stocks is driven by the natural ingenuity of hardworking humans making things, which leads to increased company earnings and ultimately, higher dividend payouts.\n",
      "\n",
      "Reasoning: This question-answer pair is well-written and accurate. The answer provides a clear explanation of what drives the value of stocks in the long run.\n",
      "\n",
      "New Section:\n",
      "\n",
      "**Question Answer Pairs**\n",
      "\n",
      "1. **Q1: What is a stock?**\n",
      "A1: A stock is a slice of a company that you truly own, giving you the right to attend shareholder meetings, vote on important decisions, and receive a share of future earnings (dividends).\n",
      "\n",
      "2. **Q2: What is a dividend?**\n",
      "A2: A dividend is a share of a company's earnings paid out to shareholders.\n",
      "\n",
      "3. **Q3: Why do companies reinvest dividends instead of paying them out?**\n",
      "A3: Companies may reinvest dividends to help the company grow its earnings even faster, potentially leading to more future dividends.\n",
      "\n",
      "4. **Q4: What determines the value of a stock?**\n",
      "A4: The true value of a stock is based on the amount of dividends it will eventually pay shareholders over time, which depends on how much money the underlying company will make.\n",
      "\n",
      "5. **Q5: Why do stocks go up and down so much?**\n",
      "A5: Stocks fluctuate because millions of investors and analysts have differing opinions about how much money companies will make in the future, leading to speculation and volatility.\n",
      "\n",
      "6. **Q6: How can you make money from stocks despite their volatility?**\n",
      "A6: You can make money by focusing on the long-term trend that all this speculation and volatility cancels out to zero. The value of stocks will go up as the earnings of the underlying companies go up, and a portion of those earnings will always flow to shareholders as dividends.\n",
      "\n",
      "7. **Q7: What drives the value of stocks in the long run?**\n",
      "A7: The value of stocks is driven by the natural ingenuity of hardworking humans making things, which leads to increased company earnings and ultimately, higher dividend payouts.\n",
      "CPU times: user 1.85 ms, sys: 348 µs, total: 2.2 ms\n",
      "Wall time: 8.41 s\n"
     ]
    }
   ],
   "source": [
    "%%time\n",
    "response = ollama.chat(model='llama3', messages=[\n",
    "  {\n",
    "    'role': 'user',\n",
    "    'content': prompt,\n",
    "  },\n",
    "])\n",
    "print(response['message']['content'])"
   ]
  },
  {
   "cell_type": "code",
   "execution_count": 300,
   "id": "62c8e556-3c31-4101-bbed-3c3fa4922938",
   "metadata": {},
   "outputs": [],
   "source": []
  },
  {
   "cell_type": "code",
   "execution_count": 301,
   "id": "a6569c24-0440-44e1-9dd6-a25e1ce50fd6",
   "metadata": {},
   "outputs": [
    {
     "name": "stdout",
     "output_type": "stream",
     "text": [
      "[\n",
      "{'question': 'What is a stock?', 'answer': 'A stock is a slice of a company that you truly own, giving you the right to attend shareholder meetings, vote on important decisions, and receive a share of future earnings (dividends).'},\n",
      "{'question': 'What is a dividend?', 'answer': 'A dividend is a share of a company\\'s earnings paid out to shareholders.'},\n",
      "{'question': 'Why do companies reinvest dividends instead of paying them out?', 'answer': 'Companies may reinvest dividends to help the company grow its earnings even faster, potentially leading to more future dividends.'},\n",
      "{'question': 'What determines the value of a stock?', 'answer': 'The true value of a stock is based on the amount of dividends it will eventually pay shareholders over time, which depends on how much money the underlying company will make.'},\n",
      "{'question': 'Why do stocks go up and down so much?', 'answer': 'Stocks fluctuate because millions of investors and analysts have differing opinions about how much money companies will make in the future, leading to speculation and volatility.'},\n",
      "{'question': 'How can you make money from stocks despite their volatility?', 'answer': 'You can make money by focusing on the long-term trend that all this speculation and volatility cancels out to zero. The value of stocks will go up as the earnings of the underlying companies go up, and a portion of those earnings will always flow to shareholders as dividends.'},\n",
      "{'question': 'What drives the value of stocks in the long run?', 'answer': 'The value of stocks is driven by the natural ingenuity of hardworking humans making things, which leads to increased company earnings and ultimately, higher dividend payouts.'}\n",
      "CPU times: user 1.96 ms, sys: 0 ns, total: 1.96 ms\n",
      "Wall time: 3.22 s\n"
     ]
    }
   ],
   "source": [
    "%%time\n",
    "response = ollama.chat(model='llama3', messages=[\n",
    "  {\n",
    "    'role': 'user',\n",
    "    'content': prompt,\n",
    "  },\n",
    "])\n",
    "print(response['message']['content'])"
   ]
  },
  {
   "cell_type": "code",
   "execution_count": 240,
   "id": "382b18d4-48dd-4ec0-b480-e2c11c6bd12e",
   "metadata": {},
   "outputs": [],
   "source": [
    "import torch"
   ]
  },
  {
   "cell_type": "code",
   "execution_count": 203,
   "id": "538264c2-7eb6-493f-8490-f22dc10e6d76",
   "metadata": {},
   "outputs": [
    {
     "data": {
      "text/plain": [
       "True"
      ]
     },
     "execution_count": 203,
     "metadata": {},
     "output_type": "execute_result"
    }
   ],
   "source": [
    "torch.cuda.is_available()"
   ]
  },
  {
   "cell_type": "code",
   "execution_count": 89,
   "id": "43d82792-95f4-437a-9aad-5bf9dea81ef7",
   "metadata": {},
   "outputs": [
    {
     "name": "stdout",
     "output_type": "stream",
     "text": [
      "Requirement already satisfied: PyMuPDF in /home/giskard/miniconda3/envs/pt/lib/python3.9/site-packages (1.23.5)\n",
      "Requirement already satisfied: PyMuPDFb==1.23.5 in /home/giskard/miniconda3/envs/pt/lib/python3.9/site-packages (from PyMuPDF) (1.23.5)\n",
      "Note: you may need to restart the kernel to use updated packages.\n"
     ]
    }
   ],
   "source": [
    "pip install PyMuPDF\n"
   ]
  },
  {
   "cell_type": "code",
   "execution_count": 137,
   "id": "8811bc8a-d57f-4c61-b6dc-da281ff1efa4",
   "metadata": {},
   "outputs": [],
   "source": [
    "import fitz\n",
    "\n",
    "def extract_text_from_pdf(pdf_path):\n",
    "    doc = fitz.open(pdf_path)\n",
    "    full_text = \"\"\n",
    "    for page_num in range(len(doc)):\n",
    "        page = doc.load_page(page_num)\n",
    "        full_text += page.get_text()\n",
    "    return full_text\n",
    "\n",
    "# Path to your PDF file\n",
    "pdf_path = \"/home/giskard/Downloads/text.pdf\"\n",
    "\n",
    "# Extract text from the PDF\n",
    "pdf_text = extract_text_from_pdf(pdf_path)\n",
    "\n",
    "# Chunk the extracted text\n",
    "chunks = chunk_text(pdf_text, max_tokens, overlap)"
   ]
  },
  {
   "cell_type": "code",
   "execution_count": 138,
   "id": "1f5a3def-6846-41ac-918e-22f158d5f74a",
   "metadata": {},
   "outputs": [
    {
     "data": {
      "text/plain": [
       "961"
      ]
     },
     "execution_count": 138,
     "metadata": {},
     "output_type": "execute_result"
    }
   ],
   "source": [
    "len(chunks)"
   ]
  },
  {
   "cell_type": "code",
   "execution_count": 141,
   "id": "4d338c23-4e1a-4326-9e94-a3bd9785ec3f",
   "metadata": {},
   "outputs": [
    {
     "name": "stdout",
     "output_type": "stream",
     "text": [
      "CPU times: user 5.2 s, sys: 277 ms, total: 5.48 s\n",
      "Wall time: 3h 39min 39s\n"
     ]
    }
   ],
   "source": [
    "%%time\n",
    "\n",
    "total_list = []\n",
    "\n",
    "for chunk in chunks:\n",
    "    output = pipeline(chunk, prompts)\n",
    "    if output:\n",
    "       total_list.append(output)\n",
    "    else:\n",
    "        output = pipeline(chunk, prompts)\n",
    "        if output:\n",
    "           total_list.append(output)\n",
    "        else:\n",
    "            pass"
   ]
  },
  {
   "cell_type": "code",
   "execution_count": 145,
   "id": "388b2403-07ff-4b99-9faf-17e44dd4dac2",
   "metadata": {},
   "outputs": [
    {
     "data": {
      "text/plain": [
       "918"
      ]
     },
     "execution_count": 145,
     "metadata": {},
     "output_type": "execute_result"
    }
   ],
   "source": [
    "len(total_list)"
   ]
  },
  {
   "cell_type": "code",
   "execution_count": 149,
   "id": "f6d9d80a-2b0d-42ce-bd3f-8c0a43e35e4c",
   "metadata": {},
   "outputs": [
    {
     "data": {
      "text/plain": [
       "[{'question': 'How can I make informed investment decisions using historical data?',\n",
       "  'answer': 'Historical data provides valuable insights into market trends, allowing you to make informed decisions about your investments. For example, analyzing past market fluctuations can help you identify patterns and make more educated choices.'},\n",
       " {'question': 'What are the implications of exchange rates on my international trade or investment activities?',\n",
       "  'answer': 'Exchange rates affect the competitiveness of exports, the attractiveness of imports, and the value of investments in foreign markets. Understanding these factors is crucial for making informed decisions about global transactions.'},\n",
       " {'question': 'Why is it essential to use standardized accounting practices (SNA) when analyzing financial data?',\n",
       "  'answer': 'SNA provides a framework for presenting economic data in a consistent manner, allowing for accurate comparison across countries and over time. This consistency ensures that financial data is reliable and comparable, enabling more effective decision-making.'},\n",
       " {'question': 'What role do national statistical offices (NSO) play in providing reliable financial data?',\n",
       "  'answer': 'NSOs collect, process, and disseminate high-quality financial data, ensuring that policymakers, businesses, and individuals have access to accurate information for informed decision-making. They play a vital role in maintaining the integrity of financial data.'}]"
      ]
     },
     "execution_count": 149,
     "metadata": {},
     "output_type": "execute_result"
    }
   ],
   "source": [
    "total_list[546]"
   ]
  },
  {
   "cell_type": "code",
   "execution_count": 151,
   "id": "d5e175f0-4731-4459-8fb5-05e49484cbd6",
   "metadata": {},
   "outputs": [
    {
     "ename": "NameError",
     "evalue": "name 'data' is not defined",
     "output_type": "error",
     "traceback": [
      "\u001b[0;31m---------------------------------------------------------------------------\u001b[0m",
      "\u001b[0;31mNameError\u001b[0m                                 Traceback (most recent call last)",
      "Cell \u001b[0;32mIn[151], line 8\u001b[0m\n\u001b[1;32m      6\u001b[0m \u001b[38;5;66;03m# Save the list of dictionaries to a JSON file\u001b[39;00m\n\u001b[1;32m      7\u001b[0m \u001b[38;5;28;01mwith\u001b[39;00m \u001b[38;5;28mopen\u001b[39m(file_name, \u001b[38;5;124m'\u001b[39m\u001b[38;5;124mw\u001b[39m\u001b[38;5;124m'\u001b[39m) \u001b[38;5;28;01mas\u001b[39;00m json_file:\n\u001b[0;32m----> 8\u001b[0m     json\u001b[38;5;241m.\u001b[39mdump(\u001b[43mdata\u001b[49m, json_file, indent\u001b[38;5;241m=\u001b[39m\u001b[38;5;241m4\u001b[39m)\n",
      "\u001b[0;31mNameError\u001b[0m: name 'data' is not defined"
     ]
    }
   ],
   "source": [
    "import json\n",
    "\n",
    "# Specify the file name\n",
    "file_name = 'data.json'\n",
    "\n",
    "# Save the list of dictionaries to a JSON file\n",
    "with open(file_name, 'w') as json_file:\n",
    "    json.dump(total_, json_file, indent=4)"
   ]
  },
  {
   "cell_type": "code",
   "execution_count": null,
   "id": "5f7c6006-db87-45a0-b5f4-0cafce21892b",
   "metadata": {},
   "outputs": [],
   "source": []
  }
 ],
 "metadata": {
  "kernelspec": {
   "display_name": "pt",
   "language": "python",
   "name": "pt"
  },
  "language_info": {
   "codemirror_mode": {
    "name": "ipython",
    "version": 3
   },
   "file_extension": ".py",
   "mimetype": "text/x-python",
   "name": "python",
   "nbconvert_exporter": "python",
   "pygments_lexer": "ipython3",
   "version": "3.9.17"
  }
 },
 "nbformat": 4,
 "nbformat_minor": 5
}
