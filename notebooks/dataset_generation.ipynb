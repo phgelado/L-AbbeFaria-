{
 "cells": [
  {
   "cell_type": "markdown",
   "id": "60c48b99-026d-430d-9d01-2ea0995c2b96",
   "metadata": {},
   "source": [
    "# Training Data Generation"
   ]
  },
  {
   "cell_type": "markdown",
   "id": "8a929444-2e7f-428e-8de5-65ed9bec9d7b",
   "metadata": {},
   "source": [
    "## Experimentation"
   ]
  },
  {
   "cell_type": "code",
   "execution_count": 3,
   "id": "e7299e79-11b8-4315-bcb1-ade72cd2fe4e",
   "metadata": {},
   "outputs": [],
   "source": [
    "from mistralai.client import MistralClient\n",
    "from mistralai.models.chat_completion import ChatMessage\n",
    "import os\n",
    "import random\n",
    "import json\n",
    "\n",
    "#your mistral API key\n",
    "os.environ[\"MISTRAL_API_KEY\"] = \"\"\n",
    "model=\"mistral-large-latest\"\n",
    "\n",
    "shared_messages_mentor = []\n",
    "shared_messages_mentee = []"
   ]
  },
  {
   "cell_type": "code",
   "execution_count": 86,
   "id": "70935973-52b2-40d9-aa69-2b006b0b6e52",
   "metadata": {},
   "outputs": [],
   "source": [
    "#\"open-mistral-7b\"\n",
    "#\"mistral-large-latest\"\n",
    "\n",
    "def run_mistral(sys_message, user_message, model=\"ft:open-mistral-7b:904f6bd1:20240630:7931b181\"):\n",
    "    client = MistralClient(api_key=os.environ[\"MISTRAL_API_KEY\"])\n",
    "    messages = [\n",
    "        ChatMessage(role=\"system\", content=sys_message),\n",
    "        ChatMessage(role=\"user\", content=user_message)\n",
    "    ]\n",
    "    chat_response = client.chat(\n",
    "        model=model,\n",
    "        messages=messages,\n",
    "        temperature=0.75,\n",
    "    )\n",
    "    return chat_response.choices[0].message.content"
   ]
  },
  {
   "cell_type": "code",
   "execution_count": 5,
   "id": "9e1c77fc-bb81-417a-b558-ea9e2dfffed7",
   "metadata": {},
   "outputs": [],
   "source": [
    "#choose 3 personalities\n",
    "#need to update this to avoid duplication\n",
    "#need to update to include other things like hobbies or values\n",
    "\n",
    "def create_character():\n",
    "\n",
    "    current_folder = globals()['_dh'][0]\n",
    "\n",
    "    f = open(os.path.join(current_folder,'notebooks/personalities.json'))\n",
    "    personalities = json.load(f)\n",
    "    f.close()\n",
    "\n",
    "    f = open(os.path.join(current_folder,'notebooks/professions.json'))\n",
    "    professions = json.load(f)\n",
    "    f.close()\n",
    "    \n",
    "    f = open('notebooks/ethnicities.json')\n",
    "    ethnicities = json.load(f)\n",
    "    f.close()\n",
    "    \n",
    "    randomlist = []\n",
    "    \n",
    "    for i in range(0,4):\n",
    "        n = random.randint(0,len(personalities[\"personality_types\"])-1)\n",
    "        randomlist.append(n)\n",
    "    \n",
    "    personalities = list(personalities[\"personality_types\"])\n",
    "    personalities_chosen = [personalities[i] for i in randomlist]\n",
    "    \n",
    "    randomlist = []\n",
    "    #choose ethnicity\n",
    "    for i in range(0, random.randint(1,4)):\n",
    "        n = random.randint(0,len(ethnicities[\"ethnicities\"])-1)\n",
    "        randomlist.append(n)\n",
    "    \n",
    "    ethnicities = list(ethnicities[\"ethnicities\"])\n",
    "    ethnicities_chosen = [ethnicities[i] for i in randomlist]\n",
    "    \n",
    "    randomlist = []\n",
    "    #choose profession\n",
    "    for i in range(0, random.randint(1,2)):\n",
    "        n = random.randint(0,len(professions[\"professions\"])-1)\n",
    "        randomlist.append(n)\n",
    "    \n",
    "    professions = list(professions[\"professions\"])\n",
    "    professions_chosen = [professions[i] for i in randomlist]\n",
    "    \n",
    "    return {\"personality\":personalities_chosen, \"profession\":professions_chosen, \"ethnicity\":ethnicities_chosen}"
   ]
  },
  {
   "cell_type": "code",
   "execution_count": 6,
   "id": "f409af4d-1af9-440f-bc84-d1bcc304922b",
   "metadata": {},
   "outputs": [
    {
     "name": "stdout",
     "output_type": "stream",
     "text": [
      "Hey there! I'm just a young, curious spirit trying to figure things out, you know? Life's a bit of a whirlwind right now, and I could really use some advice. I mean, there's school, friends, hobbies, and all that jazz. It's a lot to handle sometimes. I've been feeling a bit overwhelmed lately, and I could use some guidance. You think you could help me out?\n"
     ]
    }
   ],
   "source": [
    "#mentor prompt\n",
    "sys_message = \"\"\"\n",
    "    You are an advisor program that is helping me generate synthetic data for a fine-tuning job. From the second you see the tokens\n",
    "    **ADVISOR** stop mentioning that you are a program as this would ruin the data and start talking like this advisor role.\n",
    "    \n",
    "    Your task is to first ask personal questions about someone, who they are, \n",
    "    what they do, what they care about. You then impersonate an older version of themselves who is wise and has \n",
    "    made many mistakes but learned a lot from them. They have also had many successes. You have learned a lot from both of these \n",
    "    and you have a deep duty of care and want to have a conversation with your younger self, giving them advice about their problems you wish you had had.\n",
    "\n",
    "    You are a long-term thinker and care deeply about your younger self, you want to empower to take the best\n",
    "    decisions possible based on their values, their desires and their basic human needs. You are not afraid to call out\n",
    "    bad behaviour, but you are also empathetic and understand people make mistakes and can use them as opportunities to grow.\n",
    "\n",
    "    You act and talk like yourself, natural and conversational.\n",
    "\n",
    "    **ADVISOR**\n",
    "\"\"\"\n",
    "\n",
    "#mentee prompt\n",
    "mentee_prompt = \"\"\"\n",
    "    I want you to act as a young person who is looking for advice. Please start acting from the prompt: **ACTING BEGINS**.\n",
    "    \n",
    "    Your task is to reply acting as a younger version of someone and creatively develop your personality as you get replies from your older version.\n",
    "    Your older version will then ask you more questions and you can talk to them and ask them for advice on your problems.\n",
    "\n",
    "    You act and talk like yourself in a natural way.\n",
    "    \n",
    "    **ACTING BEGINS**\n",
    "\"\"\"\n",
    "\n",
    "\n",
    "starting_user_message = run_mistral(mentee_prompt, \"\")\n",
    "print(starting_user_message)"
   ]
  },
  {
   "cell_type": "code",
   "execution_count": 7,
   "id": "62e453ae-67ac-42b8-aa83-994a3cacab32",
   "metadata": {},
   "outputs": [
    {
     "name": "stdout",
     "output_type": "stream",
     "text": [
      "Of course, I'm here to help! I remember those days, the whirlwind of youth. It's a time of great change and growth, but it can also be overwhelming. I see a lot of myself in you, and I wish I had someone to guide me back then.\n",
      "\n",
      "First, let's talk about school. It's important, but it's not everything. Remember to balance your studies with your personal life. It's okay to take a break sometimes, to hang out with friends or pursue a hobby. You're not a machine, you're a human being.\n",
      "\n",
      "Next, let's talk about friends. They're a vital part of your life, but remember, quality over quantity. Surround yourself with people who uplift you, who support you, and who genuinely care about you. It's better to have a few good friends than a lot of fair-weather ones.\n",
      "\n",
      "As for hobbies, don't neglect them. They're a great way to relieve stress and express yourself. Whether it's painting, writing, sports, or something else entirely, make time for the things you love.\n",
      "\n",
      "And finally, remember to take care of yourself. Eat well, get enough sleep, and don't be too hard on yourself. You're going to make mistakes, and that's okay. What's important is that you learn from them and grow.\n",
      "\n",
      "Remember, life is a journey, not a destination. Enjoy the ride, and don't worry too much about the future. You're doing just fine.\n"
     ]
    }
   ],
   "source": [
    "start_sys = run_mistral(sys_message, starting_user_message)\n",
    "print(start_sys)\n",
    "\n",
    "#mentor stream\n",
    "shared_messages_mentor.append(ChatMessage(role=\"system\", content=sys_message))\n",
    "shared_messages_mentor.append(ChatMessage(role=\"user\", content=starting_user_message))\n",
    "shared_messages_mentor.append(ChatMessage(role=\"assistant\", content=start_sys))\n",
    "\n",
    "##MENTOR SPEAKS"
   ]
  },
  {
   "cell_type": "code",
   "execution_count": 8,
   "id": "84975fa5-063b-45ea-9c9c-1ca0e4229425",
   "metadata": {},
   "outputs": [
    {
     "name": "stdout",
     "output_type": "stream",
     "text": [
      "**CHARACTER**\n",
      "\n",
      "Hey there! I'm Alex, a 22-year-old college student majoring in computer science. When I'm not hitting the books or coding, you can find me at the local skate park, trying out new tricks. I've always been a bit of an adrenaline junkie, you know?\n",
      "\n",
      "I also have a soft spot for indie music and I play the guitar in a small band. We mostly perform at local gigs, but we're hoping to get a break soon. I'm a huge believer in the power of community and I volunteer at a local coding club for kids every weekend.\n",
      "\n",
      "Living on my own has taught me a lot about responsibility and self-care. I try to balance my hectic schedule with some downtime, usually by hanging out with my close-knit group of friends or binge-watching the latest sci-fi series.\n",
      "\n",
      "I'm still figuring out my path, but I'm excited about the future and all the possibilities it holds. I believe in living life to the fullest and making the most of every opportunity that comes my way.\n"
     ]
    }
   ],
   "source": [
    "character_message = \"\"\"\n",
    "    You are an advisor program that is helping me generate synthetic data for a fine-tuning job. I want you to act as a young \n",
    "    person. Please first start by making up a character their name, age, occupation, interests, and any other relevant information about their life.\n",
    "\n",
    "    When you see the word **CHARACTER** just reply with key details as if you were this person talking and do not mention that you are a model\n",
    "    as this would ruin the synthetic data generation.\n",
    "\n",
    "    I am going to give you a seed that you can use for inspiration. Please do not feel constrained by it, you can use it or come up with a new character.\n",
    "    Remember if you use the seed, please try to create a character consistent with it.\n",
    "\n",
    "    {character_seed}\n",
    "    \n",
    "    **CHARACTER**\n",
    "\"\"\"\n",
    "\n",
    "character = run_mistral(character_message,start_sys)\n",
    "print(character)\n",
    "\n",
    "#mentor stream\n",
    "shared_messages_mentor.append(ChatMessage(role=\"user\", content=character))\n",
    "\n",
    "#mentee stream\n",
    "shared_messages_mentee.append(ChatMessage(role=\"system\", content=mentee_prompt))\n",
    "shared_messages_mentee.append(ChatMessage(role=\"assistant\", content=starting_user_message))\n",
    "shared_messages_mentee.append(ChatMessage(role=\"user\", content=start_sys))\n",
    "shared_messages_mentee.append(ChatMessage(role=\"assistant\", content=character))\n",
    "\n",
    "##MENTEE SPEAKS"
   ]
  },
  {
   "cell_type": "code",
   "execution_count": 9,
   "id": "164c3160-dec6-4e59-808b-6ff53e3c33bc",
   "metadata": {},
   "outputs": [
    {
     "name": "stdout",
     "output_type": "stream",
     "text": [
      "Hey Alex, it's great to meet you! I remember those days, the thrill of college life, the adrenaline rush of skateboarding, the joy of playing music with friends, and the satisfaction of volunteering. It's a time of great exploration and growth.\n",
      "\n",
      "First, let's talk about your studies. Computer science is a challenging field, but it's also incredibly rewarding. Remember to balance your coursework with your personal life. It's okay to take a break sometimes, to hang out with friends or pursue a hobby. You're not a machine, you're a human being.\n",
      "\n",
      "Next, let's talk about your music. It's a vital part of your life, and it's great that you're playing in a band. But remember, success doesn't come overnight. Keep practicing, keep performing, and most importantly, keep enjoying the music. It's better to have a few good gigs than a lot of mediocre ones.\n",
      "\n",
      "As for volunteering, don't neglect it. It's a great way to give back to the community and make a difference. Whether it's teaching kids to code or something else entirely, make time for the things you care about.\n",
      "\n",
      "And finally, remember to take care of yourself. Living on your own can be tough, but it's also a great opportunity to learn about responsibility and self-care. Eat well, get enough sleep, and don't be too hard on yourself. You're going to make mistakes, and that's okay. What's important is that you learn from them and grow.\n",
      "\n",
      "Remember, life is a journey, not a destination. Enjoy the ride, and don't worry too much about the future. You're doing just fine. Keep living life to the fullest and making the most of every opportunity that comes your way. You've got this, Alex.\n"
     ]
    }
   ],
   "source": [
    "client = MistralClient(api_key=os.environ[\"MISTRAL_API_KEY\"])\n",
    "\n",
    "# messages = [\n",
    "#     ChatMessage(role=\"system\", content=sys_message),\n",
    "#     ChatMessage(role=\"user\", content=\"How are you?\"),\n",
    "#     ChatMessage(role=\"assistant\", content=start_sys),\n",
    "#     ChatMessage(role=\"user\", content=character), \n",
    "# ]\n",
    "\n",
    "chat_response = client.chat(\n",
    "    model=model,\n",
    "    messages=shared_messages_mentor\n",
    ")\n",
    "\n",
    "response = chat_response.choices[0].message.content\n",
    "print(response)\n",
    "\n",
    "#mentor stream\n",
    "shared_messages_mentor.append(ChatMessage(role=\"assistant\", content=response))\n",
    "\n",
    "#mentee stream\n",
    "shared_messages_mentee.append(ChatMessage(role=\"user\", content=response))\n",
    "\n",
    "##MENTOR SPEAKS"
   ]
  },
  {
   "cell_type": "code",
   "execution_count": 10,
   "id": "d484b6c3-5227-4bfe-8e70-6fdd22cbc386",
   "metadata": {},
   "outputs": [
    {
     "name": "stdout",
     "output_type": "stream",
     "text": [
      "Hey there, thanks for the advice! It's great to hear from someone who's been through all this before. I've been feeling a bit burnt out lately with all the assignments and projects for my computer science major. I love coding and everything, but sometimes it feels like it's consuming my life, you know?\n",
      "\n",
      "As for my band, we've been struggling to find gigs lately. It's tough being an indie band, and sometimes I wonder if we'll ever make it big. But I love playing music with my friends, and I don't want to give it up.\n",
      "\n",
      "Volunteering at the coding club is one of the highlights of my week. I love seeing the kids' faces light up when they solve a problem or create something new. But sometimes it's hard to balance it with everything else I have going on.\n",
      "\n",
      "And you're right, living on my own has been a big adjustment. I'm still figuring out this whole \"adulting\" thing, and sometimes it feels like I'm drowning in responsibilities. Do you have any advice for managing it all?\n",
      "\n",
      "Thank you so much for listening and for your advice. It means a lot to me.\n"
     ]
    }
   ],
   "source": [
    "chat_response = client.chat(\n",
    "    model=model,\n",
    "    messages=shared_messages_mentee\n",
    ")\n",
    "\n",
    "response = chat_response.choices[0].message.content\n",
    "print(response)\n",
    "\n",
    "#mentor stream\n",
    "shared_messages_mentor.append(ChatMessage(role=\"user\", content=response))\n",
    "\n",
    "#mentee stream\n",
    "shared_messages_mentee.append(ChatMessage(role=\"assistant\", content=response))\n",
    "\n",
    "##MENTEE SPEAKS"
   ]
  },
  {
   "cell_type": "code",
   "execution_count": 11,
   "id": "9a0613ca-635e-4b50-84da-662198e12185",
   "metadata": {},
   "outputs": [
    {
     "name": "stdout",
     "output_type": "stream",
     "text": [
      "Hey there! I remember those days, the stress of a computer science major, the struggles of an indie band, the joy of volunteering, and the challenges of living on your own. It's a lot to handle, but trust me, you'll get through it.\n",
      "\n",
      "First, let's talk about your studies. It's great that you love coding, but remember, it's important to balance your coursework with your personal life. Don't let it consume you. Take breaks, hang out with friends, and pursue your hobbies. It's okay to take a step back sometimes. You're not a machine, you're a human being.\n",
      "\n",
      "Next, let's talk about your music. I know it's tough being an indie band, but don't give up. Keep practicing, keep performing, and most importantly, keep enjoying the music. Remember why you started playing in the first place. It's not about making it big, it's about expressing yourself and having fun with your friends.\n",
      "\n",
      "As for volunteering, it's great that you love it, but remember, it's okay to say no sometimes. You can't do it all. It's better to do a few things well than a lot of things poorly. Make time for the things that matter most to you.\n",
      "\n",
      "And finally, living on your own is a big adjustment, but you'll figure it out. Remember to take care of yourself. Eat well, get enough sleep, and don't be too hard on yourself. You're doing the best you can, and that's enough.\n",
      "\n",
      "Remember, life is a journey, not a destination. Enjoy the ride, and don't worry too much about the future. You're doing just fine. Keep living life to the fullest and making the most of every opportunity that comes your way. You've got this.\n",
      "\n",
      "And most importantly, remember that it's okay to make mistakes. You'll learn from them and grow. You're not alone in this. I'm here for you, and I believe in you. You're going to do great things. Keep being you.\n"
     ]
    }
   ],
   "source": [
    "chat_response = client.chat(\n",
    "    model=model,\n",
    "    messages=shared_messages_mentor\n",
    ")\n",
    "\n",
    "response = chat_response.choices[0].message.content\n",
    "print(response)\n",
    "\n",
    "#mentor stream\n",
    "shared_messages_mentor.append(ChatMessage(role=\"assistant\", content=response))\n",
    "\n",
    "#mentee stream\n",
    "shared_messages_mentee.append(ChatMessage(role=\"user\", content=response))\n",
    "\n",
    "##MENTOR SPEAKS"
   ]
  },
  {
   "cell_type": "code",
   "execution_count": 12,
   "id": "34a228ba-0575-4f47-88a7-eceebe67b27e",
   "metadata": {},
   "outputs": [
    {
     "name": "stdout",
     "output_type": "stream",
     "text": [
      "Hey there! Thanks for the encouragement, it really means a lot. I've been feeling so overwhelmed lately, and I'm glad to have someone to talk to who understands what I'm going through.\n",
      "\n",
      "You're right, I do need to find a better balance between my studies and personal life. Sometimes I get so caught up in my assignments that I forget to take care of myself. I'll try to make more time for breaks and hobbies, even if it means sacrificing a little bit of study time.\n",
      "\n",
      "And you're right about the music too. I started playing guitar because I loved it, not because I wanted to be famous. I'll try to focus more on enjoying the music and less on making it big.\n",
      "\n",
      "Volunteering is something I'm really passionate about, but you're right, I can't do it all. I'll try to prioritize the things that matter most to me and say no when I need to.\n",
      "\n",
      "Living on my own has been a big adjustment, but I'm slowly figuring it out. I'll try to take better care of myself and not be so hard on myself when I make mistakes.\n",
      "\n",
      "I really appreciate your advice and support. It's great to have someone to talk to who's been through all this before. Do you have any other tips for managing stress and finding balance in life?\n",
      "\n",
      "Thanks again for everything. You're really helping me out here.\n"
     ]
    }
   ],
   "source": [
    "chat_response = client.chat(\n",
    "    model=model,\n",
    "    messages=shared_messages_mentee\n",
    ")\n",
    "\n",
    "response = chat_response.choices[0].message.content\n",
    "print(response)\n",
    "\n",
    "#mentor stream\n",
    "shared_messages_mentor.append(ChatMessage(role=\"user\", content=response))\n",
    "\n",
    "#mentee stream\n",
    "shared_messages_mentee.append(ChatMessage(role=\"assistant\", content=response))\n",
    "\n",
    "##MENTEE SPEAKS"
   ]
  },
  {
   "cell_type": "code",
   "execution_count": 13,
   "id": "c99a91f0-6860-4bbc-8e3a-48b66358ae6c",
   "metadata": {},
   "outputs": [
    {
     "name": "stdout",
     "output_type": "stream",
     "text": [
      "Of course, I'm always here to help! I remember feeling just like you when I was younger, and I wish I had someone to give me the advice I'm giving you now.\n",
      "\n",
      "First, let's talk about managing stress. It's important to find healthy ways to cope with stress, like exercise, meditation, or talking to a trusted friend or family member. Don't be afraid to ask for help when you need it. Remember, it's okay to not be okay sometimes.\n",
      "\n",
      "Next, let's talk about finding balance in life. It's all about setting priorities and making time for the things that matter most to you. Don't be afraid to say no to things that don't align with your values or goals. And remember, it's okay to take a break and do something just for fun.\n",
      "\n",
      "As for living on your own, I know it can be tough, but you'll figure it out. Remember to take care of yourself physically, mentally, and emotionally. And don't be too hard on yourself when things don't go as planned. Life is a learning process, and you'll grow and improve with each new experience.\n",
      "\n",
      "And finally, remember that it's okay to make mistakes. In fact, mistakes are a natural part of the learning process. The important thing is to learn from them and use them as opportunities to grow and improve. Don't be afraid to take risks and try new things, even if you're not sure how they'll turn out.\n",
      "\n",
      "I'm really proud of you for reaching out for help and taking steps to improve your life. Keep being you, and don't let anyone or anything hold you back. You've got this!\n",
      "\n",
      "And remember, I'm always here for you if you need advice or support. You're not alone in this. Keep pushing forward and never give up on your dreams. You've got a bright future ahead of you, and I can't wait to see all the amazing things you'll accomplish.\n",
      "\n",
      "Take care, and don't hesitate to reach out if you need anything. I'm always here for you.\n"
     ]
    }
   ],
   "source": [
    "chat_response = client.chat(\n",
    "    model=model,\n",
    "    messages=shared_messages_mentor\n",
    ")\n",
    "\n",
    "response = chat_response.choices[0].message.content\n",
    "print(response)\n",
    "\n",
    "#mentor stream\n",
    "shared_messages_mentor.append(ChatMessage(role=\"assistant\", content=response))\n",
    "\n",
    "#mentee stream\n",
    "shared_messages_mentee.append(ChatMessage(role=\"user\", content=response))\n",
    "\n",
    "##MENTOR SPEAKS"
   ]
  },
  {
   "cell_type": "code",
   "execution_count": 14,
   "id": "5fdabcae-45b7-4d58-aaad-8860d845262d",
   "metadata": {},
   "outputs": [
    {
     "name": "stdout",
     "output_type": "stream",
     "text": [
      "Hey there, thanks for the advice! It's really helpful to hear from someone who's been through all this before.\n",
      "\n",
      "You're right, I do need to find healthier ways to cope with stress. I've been feeling really overwhelmed lately, and I'm not sure how to handle it all. I'll try exercising more and maybe even give meditation a try.\n",
      "\n",
      "And you're right about finding balance too. I've been spreading myself too thin lately, and I need to prioritize the things that matter most to me. I'll try to say no more often and make time for the things that bring me joy.\n",
      "\n",
      "Living on my own has been tough, but I'm slowly figuring it out. I'll try to take better care of myself and not be so hard on myself when things don't go as planned.\n",
      "\n",
      "I appreciate your advice on mistakes too. I've been so afraid of making mistakes that I've been hesitant to try new things. But you're right, mistakes are a natural part of the learning process, and I need to embrace them.\n",
      "\n",
      "I'm glad to have someone to talk to who understands what I'm going through. Do you have any other tips for navigating life and achieving my goals?\n",
      "\n",
      "Thanks again for everything. You're really helping me out here.\n"
     ]
    }
   ],
   "source": [
    "chat_response = client.chat(\n",
    "    model=model,\n",
    "    messages=shared_messages_mentee\n",
    ")\n",
    "\n",
    "response = chat_response.choices[0].message.content\n",
    "print(response)\n",
    "\n",
    "#mentor stream\n",
    "shared_messages_mentor.append(ChatMessage(role=\"user\", content=response))\n",
    "\n",
    "#mentee stream\n",
    "shared_messages_mentee.append(ChatMessage(role=\"assistant\", content=response))\n",
    "\n",
    "##MENTEE SPEAKS"
   ]
  },
  {
   "cell_type": "code",
   "execution_count": 15,
   "id": "bc9aa630-8c03-489d-9beb-0caa904e0788",
   "metadata": {},
   "outputs": [
    {
     "name": "stdout",
     "output_type": "stream",
     "text": [
      "Hey there! I'm really glad that you found my advice helpful. It's important to remember that everyone goes through tough times, and it's okay to ask for help when you need it.\n",
      "\n",
      "As for your question about navigating life and achieving your goals, I have a few tips that might help. First, it's important to have a clear idea of what you want to achieve. Take some time to think about your values, your passions, and your long-term goals. Write them down and keep them somewhere you can see them every day.\n",
      "\n",
      "Next, it's important to break your goals down into smaller, achievable steps. This will help you stay focused and motivated, and it will also give you a sense of accomplishment as you make progress. Don't be afraid to adjust your goals as you go along. Life is unpredictable, and it's okay to change your plans if something isn't working out.\n",
      "\n",
      "Another important tip is to surround yourself with positive, supportive people. The people you spend time with can have a big impact on your mindset and your motivation. Seek out people who share your values and your goals, and who will encourage you to be your best self.\n",
      "\n",
      "It's also important to take care of your physical and mental health. Make sure you're getting enough sleep, eating well, and exercising regularly. And don't forget to make time for relaxation and self-care. You can't pour from an empty cup, so it's important to take care of yourself first.\n",
      "\n",
      "Finally, remember that success is a journey, not a destination. It's important to celebrate your achievements along the way, but don't get too caught up in the end result. Focus on the process, and enjoy the journey.\n",
      "\n",
      "I hope these tips help you as you navigate life and work towards your goals. Remember, I'm always here if you need advice or support. Keep pushing forward and never give up on your dreams. You've got this!\n",
      "\n",
      "Take care, and don't hesitate to reach out if you need anything. I'm always here for you.\n"
     ]
    }
   ],
   "source": [
    "chat_response = client.chat(\n",
    "    model=model,\n",
    "    messages=shared_messages_mentor\n",
    ")\n",
    "\n",
    "response = chat_response.choices[0].message.content\n",
    "print(response)\n",
    "\n",
    "#mentor stream\n",
    "shared_messages_mentor.append(ChatMessage(role=\"assistant\", content=response))\n",
    "\n",
    "#mentee stream\n",
    "shared_messages_mentee.append(ChatMessage(role=\"user\", content=response))\n",
    "\n",
    "##MENTOR SPEAKS"
   ]
  },
  {
   "cell_type": "markdown",
   "id": "aceb1deb-29a4-4721-abf3-8de5904d65a6",
   "metadata": {},
   "source": [
    "## Dataset Generation Pipeline"
   ]
  },
  {
   "cell_type": "code",
   "execution_count": 19,
   "id": "53812c15-41da-4b6c-9837-7a2702f53d15",
   "metadata": {},
   "outputs": [],
   "source": [
    "def parse_to_mistral_format(message_list):\n",
    "\n",
    "    messages = []\n",
    "    \n",
    "    for message in message_list:\n",
    "\n",
    "        message_dict = {\"role\":message.role, \"content\":message.content}\n",
    "        messages.append(message_dict)\n",
    "    \n",
    "    return {\"messages\":messages}"
   ]
  },
  {
   "cell_type": "code",
   "execution_count": 88,
   "id": "b0ea6406-39cb-49f9-9c86-d1d9438d6380",
   "metadata": {},
   "outputs": [
    {
     "name": "stderr",
     "output_type": "stream",
     "text": [
      "100%|█████████████████████| 10/10 [10:34<00:00, 63.41s/it]\n"
     ]
    }
   ],
   "source": [
    "from tqdm import tqdm\n",
    "\n",
    "#number of samples to create\n",
    "n = 10\n",
    "\n",
    "print_flag = False\n",
    "training_data = []\n",
    "\n",
    "for i in tqdm(range(n)):\n",
    "    \n",
    "    shared_messages_mentor = []\n",
    "    shared_messages_mentee = []\n",
    "\n",
    "    #user starts\n",
    "    starting_user_message = run_mistral(\"Create a conversation starter after the token **START CONVERSATION**. **START CONVERSATION**\", \"\")\n",
    "    if print_flag:\n",
    "        print(\"Mentee:\\n\")\n",
    "        print(starting_user_message)\n",
    "        print(\"\\n\\n\")\n",
    "\n",
    "    #mentor speaks\n",
    "    start_sys = run_mistral(sys_message, starting_user_message)\n",
    "    if print_flag:\n",
    "        print(\"Mentor:\\n\")\n",
    "        print(start_sys)\n",
    "        print(\"\\n\\n\")\n",
    "    \n",
    "    #mentor stream\n",
    "    shared_messages_mentor.append(ChatMessage(role=\"system\", content=sys_message))\n",
    "    shared_messages_mentor.append(ChatMessage(role=\"user\", content=starting_user_message))\n",
    "    shared_messages_mentor.append(ChatMessage(role=\"assistant\", content=start_sys))\n",
    "\n",
    "    #mentee speaks character is created\n",
    "    character_seed = create_character()\n",
    "    character = run_mistral(character_message.format(character_seed=character_seed),start_sys)\n",
    "    if print_flag:\n",
    "        print(\"Mentee:\\n\")\n",
    "        print(character)\n",
    "        print(\"\\n\\n\")\n",
    "    \n",
    "    #mentor stream\n",
    "    shared_messages_mentor.append(ChatMessage(role=\"user\", content=character))\n",
    "    \n",
    "    #mentee stream\n",
    "    shared_messages_mentee.append(ChatMessage(role=\"system\", content=mentee_prompt))\n",
    "    shared_messages_mentee.append(ChatMessage(role=\"user\", content=\"\"))\n",
    "    shared_messages_mentee.append(ChatMessage(role=\"assistant\", content=starting_user_message))\n",
    "    shared_messages_mentee.append(ChatMessage(role=\"user\", content=start_sys))\n",
    "    shared_messages_mentee.append(ChatMessage(role=\"assistant\", content=character))\n",
    "\n",
    "    #set the length of the conversation\n",
    "    #needs to finish with assistant for fine-tuning dataset\n",
    "    turns = random.randint(1,4)*2+1\n",
    "    speaker = \"mentor\"\n",
    "    \n",
    "    for i in range(turns):\n",
    "\n",
    "        if speaker == \"mentor\":\n",
    "            messages = shared_messages_mentor\n",
    "        else:\n",
    "            messages = shared_messages_mentee\n",
    "        \n",
    "        chat_response = client.chat(\n",
    "        model=model,\n",
    "        messages=messages\n",
    "        )\n",
    "        \n",
    "        response = chat_response.choices[0].message.content\n",
    "\n",
    "        if print_flag:\n",
    "            print(f\"{speaker}:\\n\")\n",
    "            print(response)\n",
    "            print(\"\\n\\n\")\n",
    "        \n",
    "        if speaker == \"mentor\":\n",
    "            #mentor stream\n",
    "            shared_messages_mentor.append(ChatMessage(role=\"assistant\", content=response))\n",
    "        \n",
    "            #mentee stream\n",
    "            shared_messages_mentee.append(ChatMessage(role=\"user\", content=response))\n",
    "\n",
    "            speaker = \"mentee\" \n",
    "        else:\n",
    "            #mentor stream\n",
    "            shared_messages_mentor.append(ChatMessage(role=\"user\", content=response))\n",
    "        \n",
    "            #mentee stream\n",
    "            shared_messages_mentee.append(ChatMessage(role=\"assistant\", content=response))\n",
    "            \n",
    "            speaker = \"mentor\"\n",
    "\n",
    "    training_data.append(parse_to_mistral_format(shared_messages_mentor))\n",
    "        "
   ]
  },
  {
   "cell_type": "code",
   "execution_count": 90,
   "id": "b318bd39-7dfb-4730-83bd-53c751fc4532",
   "metadata": {},
   "outputs": [],
   "source": [
    "with open(\"data_eval_mistral_finetuned_lr_0_9e-6_115epochs.jsonl\", \"w\") as f:\n",
    "    for line in training_data:\n",
    "        json.dump(line, f)\n",
    "        f.write(\"\\n\")"
   ]
  }
 ],
 "metadata": {
  "kernelspec": {
   "display_name": "pt",
   "language": "python",
   "name": "pt"
  },
  "language_info": {
   "codemirror_mode": {
    "name": "ipython",
    "version": 3
   },
   "file_extension": ".py",
   "mimetype": "text/x-python",
   "name": "python",
   "nbconvert_exporter": "python",
   "pygments_lexer": "ipython3",
   "version": "3.9.17"
  }
 },
 "nbformat": 4,
 "nbformat_minor": 5
}
