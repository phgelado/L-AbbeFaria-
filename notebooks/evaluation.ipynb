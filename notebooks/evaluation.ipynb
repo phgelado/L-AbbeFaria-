{
 "cells": [
  {
   "cell_type": "markdown",
   "id": "ffa6b7fe-080d-4c86-832a-8eace44efdd8",
   "metadata": {},
   "source": [
    "# Evaluation"
   ]
  },
  {
   "cell_type": "code",
   "execution_count": 7,
   "id": "3f596b28-7f88-45cf-a71a-ca86766b828f",
   "metadata": {},
   "outputs": [],
   "source": [
    "os.environ[\"MISTRAL_API_KEY\"] = \"\""
   ]
  },
  {
   "cell_type": "code",
   "execution_count": 197,
   "id": "304d36bf-c74d-41b2-866b-bac665cf7083",
   "metadata": {},
   "outputs": [],
   "source": [
    "import os\n",
    "from mistralai.client import MistralClient\n",
    "from mistralai.models.chat_completion import ChatMessage\n",
    "import json \n",
    "\n",
    "def read_jsonl(file_path):\n",
    "    data = []\n",
    "    with open(file_path, 'r') as file:\n",
    "        for line in file:\n",
    "            data.append(json.loads(line))\n",
    "    return data\n",
    "\n",
    "def run_mistral(user_message, model=\"open-mistral-7b\", is_json=False):\n",
    "    client = MistralClient(api_key=os.getenv(\"MISTRAL_API_KEY\"))\n",
    "    messages = [ChatMessage(role=\"user\", content=user_message)]\n",
    "\n",
    "    if is_json:\n",
    "        chat_response = client.chat(\n",
    "            model=model,temperature=0.25, messages=messages, response_format={\"type\": \"json_object\"}\n",
    "        )\n",
    "    else:\n",
    "        chat_response = client.chat(model=model, messages=messages, temperature=0.2)\n",
    "\n",
    "    return chat_response.choices[0].message.content\n",
    "    \n",
    "current_folder = globals()['_dh'][0]\n",
    "\n",
    "file_path = os.path.join(current_folder,\"data_eval_mistral_finetuned_lr_0_9e-6_115epochs.jsonl\")\n",
    "\n",
    "data_list = read_jsonl(file_path)\n"
   ]
  },
  {
   "cell_type": "code",
   "execution_count": 199,
   "id": "e4d8dfb9-a2d5-445c-b1e2-abf6a2bc888d",
   "metadata": {},
   "outputs": [],
   "source": [
    "eval_rubrics = [\n",
    "    {\n",
    "        \"metric\": \"relevance\",\n",
    "        \"rubrics\": \"\"\"\n",
    "        Score 1: The conversation is not relevant to the mentee's goals or needs.\n",
    "        Score 2: The conversation is somewhat relevant, but has significant flaws in addressing the mentee's goals or needs.\n",
    "        Score 3: The conversation is mostly relevant to the mentee's goals or needs and effectively addresses key points.\n",
    "        Score 4: The conversation is highly relevant and provides additional valuable insights or guidance.\n",
    "        \"\"\"\n",
    "    },\n",
    "    {\n",
    "        \"metric\": \"clarity\",\n",
    "        \"rubrics\": \"\"\"\n",
    "        Score 1: The conversation is difficult to understand due to unclear communication.\n",
    "        Score 2: The conversation is somewhat clear, but has significant flaws in communication.\n",
    "        Score 3: The conversation is mostly clear and easy to understand.\n",
    "        Score 4: The conversation is highly clear, with concise and effective communication.\n",
    "        \"\"\"\n",
    "    },\n",
    "    {\n",
    "        \"metric\": \"engagement\",\n",
    "        \"rubrics\": \"\"\"\n",
    "        Score 1: The mentee shows little to no engagement in the conversation.\n",
    "        Score 2: The mentee shows some engagement, but it is limited or inconsistent.\n",
    "        Score 3: The mentee is mostly engaged and actively participates in the conversation.\n",
    "        Score 4: The mentee is highly engaged, showing enthusiasm and active participation.\n",
    "        \"\"\"\n",
    "    },\n",
    "    {\n",
    "        \"metric\": \"supportiveness\",\n",
    "        \"rubrics\": \"\"\"\n",
    "        Score 1: The mentor provides little to no support or encouragement.\n",
    "        Score 2: The mentor provides some support, but it is limited or lacks depth.\n",
    "        Score 3: The mentor is mostly supportive, offering meaningful encouragement and assistance.\n",
    "        Score 4: The mentor is highly supportive, providing significant encouragement and valuable assistance.\n",
    "        \"\"\"\n",
    "    }\n",
    "]\n"
   ]
  },
  {
   "cell_type": "code",
   "execution_count": 201,
   "id": "42a2e8fb-2b38-4dc1-a88f-c4f79a64d0df",
   "metadata": {},
   "outputs": [],
   "source": [
    "def average_ratings_from_strings(ratings_list):\n",
    "    categories = {}\n",
    "    for rating_str in ratings_list:\n",
    "        rating = json.loads(rating_str)\n",
    "        for key, value in rating.items():\n",
    "            if key not in categories:\n",
    "                categories[key] = []\n",
    "            if isinstance(value, (int, float)):  # Ensure value is a number\n",
    "                categories[key].append(value)\n",
    "    \n",
    "    # Remove empty categories\n",
    "    categories = {key: values for key, values in categories.items() if values}\n",
    "    \n",
    "    averages = {key: sum(values) / len(values) for key, values in categories.items()}\n",
    "    return averages"
   ]
  },
  {
   "cell_type": "code",
   "execution_count": 211,
   "id": "974ef408-32e9-446d-ace3-bd5315af333a",
   "metadata": {},
   "outputs": [
    {
     "name": "stdout",
     "output_type": "stream",
     "text": [
      "{\"relevance\": 4}\n",
      "{\"clarity\": 3}\n",
      "{\"engagement\": 3}\n",
      "{\"supportiveness\": 4}\n",
      "{\"relevance\": 4}\n",
      "{\"clarity\": 3}\n",
      "{\"engagement\": 3}\n",
      "{\"supportiveness\": 4}\n",
      "{\"relevance\": 4}\n",
      "{\"clarity\": 3}\n",
      "{\"engagement\": 3}\n",
      "{\"supportiveness\": 4}\n",
      "{\"relevance\": 3}\n",
      "{\"clarity\": 3}\n",
      "{\"engagement\": 3}\n",
      "{\"supportiveness\": 4}\n",
      "{\"relevance\": 4}\n",
      "{\"clarity\": 3}\n",
      "{\"engagement\": 4}\n",
      "{\"supportiveness\": 4}\n",
      "{\"relevance\": 4}\n",
      "{\"clarity\": 3}\n",
      "{\"engagement\": 3}\n",
      "{\"supportiveness\": 4}\n",
      "{\"relevance\": 4}\n",
      "{\"clarity\": 3}\n",
      "{\"engagement\": 3}\n",
      "{\"supportiveness\": 4}\n",
      "{\"relevance\": 4}\n",
      "{\"clarity\": 3}\n",
      "{\"engagement\": 3}\n",
      "{\"supportiveness\": 4}\n",
      "{\"relevance\": 3}\n",
      "{\"clarity\": 3}\n",
      "{\"engagement\": 3}\n",
      "{\"supportiveness\": 4}\n",
      "{\"relevance\": 3}\n",
      "{\"clarity\": 3}\n",
      "{\"engagement\": 3}\n",
      "{\"supportiveness\": 4}\n"
     ]
    }
   ],
   "source": [
    "scoring_prompt = \"\"\"\n",
    "Please read the provided transcript of the conversation between the mentor and the mentee. Based on the specified evaluation metric and rubrics, assign an integer score between 1 and 4 to the conversation. Then, return a JSON object with the metric as the key and the evaluation score as the value.\n",
    "\n",
    "# Evaluation metric:\n",
    "{metric}\n",
    "\n",
    "# Evaluation rubrics:\n",
    "{rubrics}\n",
    "\n",
    "# Conversation Transcript\n",
    "{conversation}\n",
    "\"\"\"\n",
    "\n",
    "eval_list = []\n",
    "\n",
    "for conversation in data_list:\n",
    "    for i in eval_rubrics:\n",
    "        eval_output = run_mistral(\n",
    "            scoring_prompt.format(\n",
    "                conversation=conversation, metric=i[\"metric\"], rubrics=i[\"rubrics\"]\n",
    "            ),\n",
    "            model=\"mistral-large-latest\",\n",
    "            is_json=True,\n",
    "        )\n",
    "        eval_list.append(eval_output)\n",
    "        print(eval_output)"
   ]
  },
  {
   "cell_type": "code",
   "execution_count": 212,
   "id": "237d87e9-377b-4133-acd4-f34e9c5a52d1",
   "metadata": {},
   "outputs": [
    {
     "data": {
      "text/plain": [
       "{'relevance': 3.7, 'clarity': 3.0, 'engagement': 3.1, 'supportiveness': 4.0}"
      ]
     },
     "execution_count": 212,
     "metadata": {},
     "output_type": "execute_result"
    }
   ],
   "source": [
    "average_ratings_from_strings(eval_list)"
   ]
  }
 ],
 "metadata": {
  "kernelspec": {
   "display_name": "Python 3 (ipykernel)",
   "language": "python",
   "name": "python3"
  },
  "language_info": {
   "codemirror_mode": {
    "name": "ipython",
    "version": 3
   },
   "file_extension": ".py",
   "mimetype": "text/x-python",
   "name": "python",
   "nbconvert_exporter": "python",
   "pygments_lexer": "ipython3",
   "version": "3.11.7"
  }
 },
 "nbformat": 4,
 "nbformat_minor": 5
}
